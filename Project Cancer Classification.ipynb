{
 "cells": [
  {
   "cell_type": "code",
   "execution_count": 10,
   "metadata": {},
   "outputs": [],
   "source": [
    "import pandas as pd\n",
    "cancer_df = pd.read_csv('TCGA_CODA1.txt',sep=\" \",header = None)"
   ]
  },
  {
   "cell_type": "code",
   "execution_count": 90,
   "metadata": {},
   "outputs": [
    {
     "name": "stdout",
     "output_type": "stream",
     "text": [
      "<class 'dict'>\n",
      "<class 'numpy.ndarray'>\n",
      "(250, 200)\n",
      "         0          1         2          3         4          5          6    \\\n",
      "0  10.426991   9.834758  8.075885  10.545622  5.996158  10.599672  10.525884   \n",
      "1  10.843486   9.351440  7.147218   9.323149  7.092013  11.252528   8.827443   \n",
      "2  11.092194   9.416648  8.220621   8.322983  4.757647  10.471523  10.423177   \n",
      "3  11.168983  10.239724  7.541613   9.555705  7.945781  10.925178  10.896155   \n",
      "4  10.868161   9.015701  7.039655  10.890135  7.439700  11.018139  10.347412   \n",
      "\n",
      "        7         8          9      ...           190       191       192  \\\n",
      "0  0.536749  3.858657  10.631244    ...      9.130429  4.929043  7.733124   \n",
      "1 -1.047517  0.537445  11.425152    ...     10.945400  3.274396  5.822827   \n",
      "2  0.548239  1.133169  11.254691    ...     11.371563  4.718120  8.390546   \n",
      "3 -1.216585  2.590746  11.879776    ...      9.875486  3.641373  9.488158   \n",
      "4  7.509195 -1.015666  11.606195    ...      9.827508  4.193827  8.851651   \n",
      "\n",
      "         193       194       195        196       197       198       199  \n",
      "0  12.995389  6.144352  4.039226  10.271436  5.411196  8.307115  7.834407  \n",
      "1  13.273474  7.631942  1.537445   9.304505  3.344786  9.514704  8.081744  \n",
      "2  12.322983  5.656719  3.007626  10.681338  3.870128  9.019871  7.393686  \n",
      "3  13.437746  6.469891  2.870858   9.375847  4.455814  9.124353  7.114307  \n",
      "4  13.866155  6.579219  3.306306   9.643476  4.791726  9.201118  7.237038  \n",
      "\n",
      "[5 rows x 200 columns]\n",
      "(250, 200)\n",
      "(250, 200)\n",
      "<class 'pandas.core.frame.DataFrame'>\n",
      "<class 'pandas.core.frame.DataFrame'>\n",
      "(200, 200)\n",
      "(200, 200)\n",
      "(400, 200)\n",
      "       0\n",
      "98   0.0\n",
      "75   0.0\n",
      "222  0.0\n",
      "34   0.0\n",
      "161  0.0\n",
      "[0. 0. 0. 0. 0. 0. 0. 0. 0. 0. 0. 0. 0. 0. 0. 0. 0. 0. 0. 0. 0. 0. 0. 0.\n",
      " 0. 0. 0. 0. 0. 0. 0. 0. 0. 0. 0. 0. 0. 0. 0. 0. 0. 0. 0. 0. 0. 0. 0. 0.\n",
      " 0. 0. 1. 1. 1. 1. 1. 1. 1. 1. 1. 1. 1. 1. 1. 1. 1. 1. 1. 1. 1. 1. 1. 1.\n",
      " 1. 1. 1. 1. 1. 1. 1. 1. 1. 1. 1. 1. 1. 1. 1. 1. 1. 1. 1. 1. 1. 1. 1. 1.\n",
      " 1. 1. 1. 1.]\n"
     ]
    },
    {
     "name": "stderr",
     "output_type": "stream",
     "text": [
      "C:\\Users\\bluec\\Anaconda3\\lib\\site-packages\\sklearn\\utils\\validation.py:578: DataConversionWarning: A column-vector y was passed when a 1d array was expected. Please change the shape of y to (n_samples, ), for example using ravel().\n",
      "  y = column_or_1d(y, warn=True)\n"
     ]
    },
    {
     "data": {
      "text/plain": [
       "array([[50,  0],\n",
       "       [ 0, 50]], dtype=int64)"
      ]
     },
     "execution_count": 90,
     "metadata": {},
     "output_type": "execute_result"
    }
   ],
   "source": [
    "import numpy as np\n",
    "import scipy.io\n",
    "from sklearn import svm\n",
    "from sklearn.model_selection import train_test_split\n",
    "from sklearn.metrics import confusion_matrix\n",
    "filename = 'CSE391_classificatin_project.mat'\n",
    "mat = scipy.io.loadmat(filename)\n",
    "print(type(mat))\n",
    "print(type(mat['X']))\n",
    "print(type1.shape)\n",
    "\n",
    "\n",
    "type1 = mat['X'].transpose()\n",
    "type2 = mat['Y'].transpose()\n",
    "\n",
    "\n",
    "\n",
    "\n",
    "df1 = pd.DataFrame(type1)\n",
    "df2 = pd.DataFrame(type2)\n",
    "\n",
    "#df1.insert(200,\"Type\",0)\n",
    "#df2.insert(200,\"Type\",1)\n",
    "\n",
    "c1 = pd.DataFrame(np.zeros(250))\n",
    "c2 = pd.DataFrame(np.ones(250))\n",
    "\n",
    "print(df1.head())\n",
    "\n",
    "print(df1.shape)\n",
    "print(df2.shape)\n",
    "\n",
    "type1_train, type1_test, c1_train, c1_test = train_test_split(df1,c1,test_size = 0.2)\n",
    "type2_train, type2_test, c2_train, c2_test = train_test_split(df2,c2,test_size = 0.2)\n",
    "\n",
    "print(type(c1_train))\n",
    "print(type(type1_train))\n",
    "\n",
    "print(type1_train.shape)\n",
    "print(type2_train.shape)\n",
    "\n",
    "frames1 = [type1_train,type2_train]\n",
    "types = pd.concat(frames1)\n",
    "print(types.shape)\n",
    "\n",
    "frames2 = [c1_train, c2_train]\n",
    "cs = pd.concat(frames2)\n",
    "print(cs.head())\n",
    "\n",
    "frames3 = [type1_test, type2_test]\n",
    "typestest = pd.concat(frames3)\n",
    "\n",
    "frames4 = [c1_test,c2_test]\n",
    "y_test = pd.concat(frames4)\n",
    "\n",
    "classifier = svm.SVC(kernel='linear', C = 0.01)\n",
    "y_pred = classifier.fit(types,cs).predict(typestest)\n",
    "\n",
    "print(y_pred)\n",
    "\n",
    "cnf_matrix = confusion_matrix(y_test,y_pred)\n",
    "np.set_printoptions(precision=2)\n",
    "cnf_matrix\n"
   ]
  },
  {
   "cell_type": "code",
   "execution_count": null,
   "metadata": {},
   "outputs": [],
   "source": []
  }
 ],
 "metadata": {
  "kernelspec": {
   "display_name": "Python 3",
   "language": "python",
   "name": "python3"
  },
  "language_info": {
   "codemirror_mode": {
    "name": "ipython",
    "version": 3
   },
   "file_extension": ".py",
   "mimetype": "text/x-python",
   "name": "python",
   "nbconvert_exporter": "python",
   "pygments_lexer": "ipython3",
   "version": "3.6.5"
  }
 },
 "nbformat": 4,
 "nbformat_minor": 2
}
